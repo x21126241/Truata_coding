{
 "cells": [
  {
   "cell_type": "code",
   "execution_count": 1,
   "id": "4e7a955b",
   "metadata": {},
   "outputs": [],
   "source": [
    "import pyspark\n",
    "import pandas as pd\n",
    "import os\n",
    "import csv\n",
    "from pyspark.sql import SparkSession\n",
    "from pyspark.ml.classification import LogisticRegression\n",
    "from pyspark.ml.feature import VectorAssembler,StringIndexer\n",
    "spark = SparkSession.builder.getOrCreate()"
   ]
  },
  {
   "cell_type": "code",
   "execution_count": 2,
   "id": "daca0f54",
   "metadata": {},
   "outputs": [],
   "source": [
    "df = spark.createDataFrame(\n",
    "    pd.read_csv('C:/Users/nares/Downloads/iris.data', header=None, names=['sepal-length', 'sepal-width', 'petal-length', 'petal-width', 'class'])\n",
    "    )"
   ]
  },
  {
   "cell_type": "code",
   "execution_count": 3,
   "id": "e40a1619",
   "metadata": {},
   "outputs": [
    {
     "name": "stdout",
     "output_type": "stream",
     "text": [
      "+------------+-----------+------------+-----------+-----------+\n",
      "|sepal-length|sepal-width|petal-length|petal-width|      class|\n",
      "+------------+-----------+------------+-----------+-----------+\n",
      "|         5.1|        3.5|         1.4|        0.2|Iris-setosa|\n",
      "|         4.9|        3.0|         1.4|        0.2|Iris-setosa|\n",
      "|         4.7|        3.2|         1.3|        0.2|Iris-setosa|\n",
      "|         4.6|        3.1|         1.5|        0.2|Iris-setosa|\n",
      "|         5.0|        3.6|         1.4|        0.2|Iris-setosa|\n",
      "|         5.4|        3.9|         1.7|        0.4|Iris-setosa|\n",
      "|         4.6|        3.4|         1.4|        0.3|Iris-setosa|\n",
      "|         5.0|        3.4|         1.5|        0.2|Iris-setosa|\n",
      "|         4.4|        2.9|         1.4|        0.2|Iris-setosa|\n",
      "|         4.9|        3.1|         1.5|        0.1|Iris-setosa|\n",
      "|         5.4|        3.7|         1.5|        0.2|Iris-setosa|\n",
      "|         4.8|        3.4|         1.6|        0.2|Iris-setosa|\n",
      "|         4.8|        3.0|         1.4|        0.1|Iris-setosa|\n",
      "|         4.3|        3.0|         1.1|        0.1|Iris-setosa|\n",
      "|         5.8|        4.0|         1.2|        0.2|Iris-setosa|\n",
      "|         5.7|        4.4|         1.5|        0.4|Iris-setosa|\n",
      "|         5.4|        3.9|         1.3|        0.4|Iris-setosa|\n",
      "|         5.1|        3.5|         1.4|        0.3|Iris-setosa|\n",
      "|         5.7|        3.8|         1.7|        0.3|Iris-setosa|\n",
      "|         5.1|        3.8|         1.5|        0.3|Iris-setosa|\n",
      "+------------+-----------+------------+-----------+-----------+\n",
      "only showing top 20 rows\n",
      "\n"
     ]
    }
   ],
   "source": [
    "df.show()"
   ]
  },
  {
   "cell_type": "code",
   "execution_count": 4,
   "id": "21d1b636",
   "metadata": {},
   "outputs": [],
   "source": [
    "feature_cols = df.columns[:-1]\n",
    "assembler = pyspark.ml.feature.VectorAssembler(inputCols=feature_cols, outputCol='features')\n",
    "df = assembler.transform(df)"
   ]
  },
  {
   "cell_type": "code",
   "execution_count": 5,
   "id": "48b3c746",
   "metadata": {},
   "outputs": [
    {
     "name": "stdout",
     "output_type": "stream",
     "text": [
      "+-----------------+-----+\n",
      "|         features|label|\n",
      "+-----------------+-----+\n",
      "|[5.1,3.5,1.4,0.2]|  0.0|\n",
      "|[4.9,3.0,1.4,0.2]|  0.0|\n",
      "|[4.7,3.2,1.3,0.2]|  0.0|\n",
      "|[4.6,3.1,1.5,0.2]|  0.0|\n",
      "|[5.0,3.6,1.4,0.2]|  0.0|\n",
      "|[5.4,3.9,1.7,0.4]|  0.0|\n",
      "|[4.6,3.4,1.4,0.3]|  0.0|\n",
      "|[5.0,3.4,1.5,0.2]|  0.0|\n",
      "|[4.4,2.9,1.4,0.2]|  0.0|\n",
      "|[4.9,3.1,1.5,0.1]|  0.0|\n",
      "+-----------------+-----+\n",
      "only showing top 10 rows\n",
      "\n"
     ]
    }
   ],
   "source": [
    "df = df.select(['features', 'class'])\n",
    "label_indexer = pyspark.ml.feature.StringIndexer(inputCol='class', outputCol='label').fit(df)\n",
    "df = label_indexer.transform(df)\n",
    "df = df.select(['features', 'label'])\n",
    "df.show(10)"
   ]
  },
  {
   "cell_type": "code",
   "execution_count": 6,
   "id": "c81106ae",
   "metadata": {},
   "outputs": [],
   "source": [
    "train, test = df.randomSplit([0.70, 0.30])\n",
    "lr = pyspark.ml.classification.LogisticRegression(regParam=0.01)\n",
    "model = lr.fit(train)"
   ]
  },
  {
   "cell_type": "code",
   "execution_count": 7,
   "id": "1a5ffd38",
   "metadata": {},
   "outputs": [
    {
     "name": "stdout",
     "output_type": "stream",
     "text": [
      "Prediction\n",
      "+-----------------+-----+--------------------+--------------------+----------+\n",
      "|         features|label|       rawPrediction|         probability|prediction|\n",
      "+-----------------+-----+--------------------+--------------------+----------+\n",
      "|[4.3,3.0,1.1,0.1]|  0.0|[6.57678564610645...|[0.98617765341388...|       0.0|\n",
      "|[5.4,3.7,1.5,0.2]|  0.0|[6.03590886582174...|[0.98115252127876...|       0.0|\n",
      "|[5.7,4.4,1.5,0.4]|  0.0|[6.72385262477322...|[0.99530300276438...|       0.0|\n",
      "|[5.1,3.8,1.5,0.3]|  0.0|[6.43473115591857...|[0.99096730705439...|       0.0|\n",
      "|[5.2,3.4,1.4,0.2]|  0.0|[5.74929824475867...|[0.96997519900804...|       0.0|\n",
      "|[5.2,3.5,1.5,0.2]|  0.0|[5.86857180954486...|[0.97574279268458...|       0.0|\n",
      "|[5.4,3.4,1.5,0.4]|  0.0|[4.96309128500362...|[0.94191908105509...|       0.0|\n",
      "|[5.4,3.4,1.7,0.2]|  0.0|[5.19605902728392...|[0.94434748492885...|       0.0|\n",
      "|[5.0,3.5,1.3,0.3]|  0.0|[6.11251549820776...|[0.98417829068817...|       0.0|\n",
      "|[5.1,3.8,1.6,0.2]|  0.0|[6.55121502705871...|[0.99116767944463...|       0.0|\n",
      "+-----------------+-----+--------------------+--------------------+----------+\n",
      "only showing top 10 rows\n",
      "\n"
     ]
    }
   ],
   "source": [
    "prediction = model.transform(test)\n",
    "print(\"Prediction\")\n",
    "prediction.show(10)"
   ]
  },
  {
   "cell_type": "code",
   "execution_count": 8,
   "id": "ed125d27",
   "metadata": {},
   "outputs": [],
   "source": [
    "pred_data = spark.createDataFrame(\n",
    "[(5.1, 3.5, 1.4, 0.2),\n",
    "(6.2, 3.4, 5.4, 2.3)],\n",
    "[\"sepal_length\", \"sepal_width\", \"petal_length\", \"petal_width\"])"
   ]
  },
  {
   "cell_type": "code",
   "execution_count": 9,
   "id": "4739a6f3",
   "metadata": {},
   "outputs": [],
   "source": [
    "feature_vals = pred_data.columns[:]\n",
    "assembler = pyspark.ml.feature.VectorAssembler(inputCols=feature_vals, outputCol='features')\n",
    "pred_data = assembler.transform(pred_data)"
   ]
  },
  {
   "cell_type": "code",
   "execution_count": 10,
   "id": "3f811e73",
   "metadata": {},
   "outputs": [],
   "source": [
    "pred_data = pred_data.select(['features'])\n",
    "prediction = model.transform(pred_data)\n",
    "prediction = prediction.select('prediction').toPandas()"
   ]
  },
  {
   "cell_type": "code",
   "execution_count": 11,
   "id": "fcd56e74",
   "metadata": {},
   "outputs": [],
   "source": [
    "os.chdir(r'C:/Users/nares/Downloads')\n",
    "outlst = prediction.values.tolist()\n",
    "f = open('out_3_2.csv', 'w', encoding='utf-8',newline='')\n",
    "head = 'class'\n",
    "f.write(head+'\\n')\n",
    "for i in outlst:\n",
    "    f.write(str(i[0])+'\\n')\n",
    "f.close()"
   ]
  }
 ],
 "metadata": {
  "kernelspec": {
   "display_name": "Python 3 (ipykernel)",
   "language": "python",
   "name": "python3"
  },
  "language_info": {
   "codemirror_mode": {
    "name": "ipython",
    "version": 3
   },
   "file_extension": ".py",
   "mimetype": "text/x-python",
   "name": "python",
   "nbconvert_exporter": "python",
   "pygments_lexer": "ipython3",
   "version": "3.9.7"
  }
 },
 "nbformat": 4,
 "nbformat_minor": 5
}
